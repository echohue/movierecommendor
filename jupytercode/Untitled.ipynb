{
 "cells": [
  {
   "cell_type": "code",
   "execution_count": 1,
   "id": "f80d7f06-08b7-421b-ba80-c911e17c876d",
   "metadata": {},
   "outputs": [],
   "source": [
    "import pandas as pd"
   ]
  },
  {
   "cell_type": "code",
   "execution_count": 3,
   "id": "37e6a3d9-e7c6-46d1-a0a6-cf14377f7c47",
   "metadata": {},
   "outputs": [
    {
     "name": "stdout",
     "output_type": "stream",
     "text": [
      "          id                                          title  \\\n",
      "0        278                       The Shawshank Redemption   \n",
      "1      19404                    Dilwale Dulhania Le Jayenge   \n",
      "2        238                                  The Godfather   \n",
      "3        424                               Schindler's List   \n",
      "4        240                         The Godfather: Part II   \n",
      "...      ...                                            ...   \n",
      "9995   10196                             The Last Airbender   \n",
      "9996  331446                       Sharknado 3: Oh Hell No!   \n",
      "9997   13995                                Captain America   \n",
      "9998    2312  In the Name of the King: A Dungeon Siege Tale   \n",
      "9999  455957                                         Domino   \n",
      "\n",
      "                                                 genre original_language  \\\n",
      "0                                          Drama,Crime                en   \n",
      "1                                 Comedy,Drama,Romance                hi   \n",
      "2                                          Drama,Crime                en   \n",
      "3                                    Drama,History,War                en   \n",
      "4                                          Drama,Crime                en   \n",
      "...                                                ...               ...   \n",
      "9995                          Action,Adventure,Fantasy                en   \n",
      "9996  Action,TV Movie,Science Fiction,Comedy,Adventure                en   \n",
      "9997                        Action,Science Fiction,War                en   \n",
      "9998                    Adventure,Fantasy,Action,Drama                en   \n",
      "9999                             Thriller,Action,Crime                en   \n",
      "\n",
      "                                               overview  popularity  \\\n",
      "0     Framed in the 1940s for the double murder of h...      94.075   \n",
      "1     Raj is a rich, carefree, happy-go-lucky second...      25.408   \n",
      "2     Spanning the years 1945 to 1955, a chronicle o...      90.585   \n",
      "3     The true story of how businessman Oskar Schind...      44.761   \n",
      "4     In the continuing saga of the Corleone crime f...      57.749   \n",
      "...                                                 ...         ...   \n",
      "9995  The story follows the adventures of Aang, a yo...      98.322   \n",
      "9996  The sharks take bite out of the East Coast whe...      12.490   \n",
      "9997  During World War II, a brave, patriotic Americ...      18.333   \n",
      "9998  A man named Farmer sets out to rescue his kidn...      15.159   \n",
      "9999  Seeking justice for his partner’s murder by an...      16.482   \n",
      "\n",
      "     release_date  vote_average  vote_count  \n",
      "0      1994-09-23           8.7       21862  \n",
      "1      1995-10-19           8.7        3731  \n",
      "2      1972-03-14           8.7       16280  \n",
      "3      1993-12-15           8.6       12959  \n",
      "4      1974-12-20           8.6        9811  \n",
      "...           ...           ...         ...  \n",
      "9995   2010-06-30           4.7        3347  \n",
      "9996   2015-07-22           4.7         417  \n",
      "9997   1990-12-14           4.6         332  \n",
      "9998   2007-11-29           4.7         668  \n",
      "9999   2019-05-31           4.6         221  \n",
      "\n",
      "[10000 rows x 9 columns]\n"
     ]
    }
   ],
   "source": [
    "movies= pd.read_csv('moviesdataset.csv')\n",
    "print(data)"
   ]
  },
  {
   "cell_type": "code",
   "execution_count": 4,
   "id": "f0b485f8-e86f-4ef9-b613-8f92f51a8eb7",
   "metadata": {},
   "outputs": [],
   "source": [
    "movies = movies[['id', 'title', 'overview', 'genre']]"
   ]
  },
  {
   "cell_type": "code",
   "execution_count": 5,
   "id": "b5814b41-0845-41c2-8488-62220373f39e",
   "metadata": {},
   "outputs": [
    {
     "data": {
      "text/html": [
       "<div>\n",
       "<style scoped>\n",
       "    .dataframe tbody tr th:only-of-type {\n",
       "        vertical-align: middle;\n",
       "    }\n",
       "\n",
       "    .dataframe tbody tr th {\n",
       "        vertical-align: top;\n",
       "    }\n",
       "\n",
       "    .dataframe thead th {\n",
       "        text-align: right;\n",
       "    }\n",
       "</style>\n",
       "<table border=\"1\" class=\"dataframe\">\n",
       "  <thead>\n",
       "    <tr style=\"text-align: right;\">\n",
       "      <th></th>\n",
       "      <th>id</th>\n",
       "      <th>title</th>\n",
       "      <th>overview</th>\n",
       "      <th>genre</th>\n",
       "    </tr>\n",
       "  </thead>\n",
       "  <tbody>\n",
       "    <tr>\n",
       "      <th>0</th>\n",
       "      <td>278</td>\n",
       "      <td>The Shawshank Redemption</td>\n",
       "      <td>Framed in the 1940s for the double murder of h...</td>\n",
       "      <td>Drama,Crime</td>\n",
       "    </tr>\n",
       "    <tr>\n",
       "      <th>1</th>\n",
       "      <td>19404</td>\n",
       "      <td>Dilwale Dulhania Le Jayenge</td>\n",
       "      <td>Raj is a rich, carefree, happy-go-lucky second...</td>\n",
       "      <td>Comedy,Drama,Romance</td>\n",
       "    </tr>\n",
       "    <tr>\n",
       "      <th>2</th>\n",
       "      <td>238</td>\n",
       "      <td>The Godfather</td>\n",
       "      <td>Spanning the years 1945 to 1955, a chronicle o...</td>\n",
       "      <td>Drama,Crime</td>\n",
       "    </tr>\n",
       "    <tr>\n",
       "      <th>3</th>\n",
       "      <td>424</td>\n",
       "      <td>Schindler's List</td>\n",
       "      <td>The true story of how businessman Oskar Schind...</td>\n",
       "      <td>Drama,History,War</td>\n",
       "    </tr>\n",
       "    <tr>\n",
       "      <th>4</th>\n",
       "      <td>240</td>\n",
       "      <td>The Godfather: Part II</td>\n",
       "      <td>In the continuing saga of the Corleone crime f...</td>\n",
       "      <td>Drama,Crime</td>\n",
       "    </tr>\n",
       "    <tr>\n",
       "      <th>...</th>\n",
       "      <td>...</td>\n",
       "      <td>...</td>\n",
       "      <td>...</td>\n",
       "      <td>...</td>\n",
       "    </tr>\n",
       "    <tr>\n",
       "      <th>9995</th>\n",
       "      <td>10196</td>\n",
       "      <td>The Last Airbender</td>\n",
       "      <td>The story follows the adventures of Aang, a yo...</td>\n",
       "      <td>Action,Adventure,Fantasy</td>\n",
       "    </tr>\n",
       "    <tr>\n",
       "      <th>9996</th>\n",
       "      <td>331446</td>\n",
       "      <td>Sharknado 3: Oh Hell No!</td>\n",
       "      <td>The sharks take bite out of the East Coast whe...</td>\n",
       "      <td>Action,TV Movie,Science Fiction,Comedy,Adventure</td>\n",
       "    </tr>\n",
       "    <tr>\n",
       "      <th>9997</th>\n",
       "      <td>13995</td>\n",
       "      <td>Captain America</td>\n",
       "      <td>During World War II, a brave, patriotic Americ...</td>\n",
       "      <td>Action,Science Fiction,War</td>\n",
       "    </tr>\n",
       "    <tr>\n",
       "      <th>9998</th>\n",
       "      <td>2312</td>\n",
       "      <td>In the Name of the King: A Dungeon Siege Tale</td>\n",
       "      <td>A man named Farmer sets out to rescue his kidn...</td>\n",
       "      <td>Adventure,Fantasy,Action,Drama</td>\n",
       "    </tr>\n",
       "    <tr>\n",
       "      <th>9999</th>\n",
       "      <td>455957</td>\n",
       "      <td>Domino</td>\n",
       "      <td>Seeking justice for his partner’s murder by an...</td>\n",
       "      <td>Thriller,Action,Crime</td>\n",
       "    </tr>\n",
       "  </tbody>\n",
       "</table>\n",
       "<p>10000 rows × 4 columns</p>\n",
       "</div>"
      ],
      "text/plain": [
       "          id                                          title  \\\n",
       "0        278                       The Shawshank Redemption   \n",
       "1      19404                    Dilwale Dulhania Le Jayenge   \n",
       "2        238                                  The Godfather   \n",
       "3        424                               Schindler's List   \n",
       "4        240                         The Godfather: Part II   \n",
       "...      ...                                            ...   \n",
       "9995   10196                             The Last Airbender   \n",
       "9996  331446                       Sharknado 3: Oh Hell No!   \n",
       "9997   13995                                Captain America   \n",
       "9998    2312  In the Name of the King: A Dungeon Siege Tale   \n",
       "9999  455957                                         Domino   \n",
       "\n",
       "                                               overview  \\\n",
       "0     Framed in the 1940s for the double murder of h...   \n",
       "1     Raj is a rich, carefree, happy-go-lucky second...   \n",
       "2     Spanning the years 1945 to 1955, a chronicle o...   \n",
       "3     The true story of how businessman Oskar Schind...   \n",
       "4     In the continuing saga of the Corleone crime f...   \n",
       "...                                                 ...   \n",
       "9995  The story follows the adventures of Aang, a yo...   \n",
       "9996  The sharks take bite out of the East Coast whe...   \n",
       "9997  During World War II, a brave, patriotic Americ...   \n",
       "9998  A man named Farmer sets out to rescue his kidn...   \n",
       "9999  Seeking justice for his partner’s murder by an...   \n",
       "\n",
       "                                                 genre  \n",
       "0                                          Drama,Crime  \n",
       "1                                 Comedy,Drama,Romance  \n",
       "2                                          Drama,Crime  \n",
       "3                                    Drama,History,War  \n",
       "4                                          Drama,Crime  \n",
       "...                                                ...  \n",
       "9995                          Action,Adventure,Fantasy  \n",
       "9996  Action,TV Movie,Science Fiction,Comedy,Adventure  \n",
       "9997                        Action,Science Fiction,War  \n",
       "9998                    Adventure,Fantasy,Action,Drama  \n",
       "9999                             Thriller,Action,Crime  \n",
       "\n",
       "[10000 rows x 4 columns]"
      ]
     },
     "execution_count": 5,
     "metadata": {},
     "output_type": "execute_result"
    }
   ],
   "source": [
    "movies\n"
   ]
  },
  {
   "cell_type": "code",
   "execution_count": 6,
   "id": "b3f6090c-3e0f-4a0a-97d5-c8188a340ee4",
   "metadata": {},
   "outputs": [],
   "source": [
    "movies['tags'] = movies['overview'] + movies['genre']"
   ]
  },
  {
   "cell_type": "code",
   "execution_count": 7,
   "id": "23681db7-765b-40d0-8ae8-c8d08958ba6f",
   "metadata": {},
   "outputs": [],
   "source": [
    "new_data = movies.drop( columns = ['overview', 'genre'])"
   ]
  },
  {
   "cell_type": "code",
   "execution_count": 8,
   "id": "a61a3409-b012-4440-bc70-cd0e86d3fc4e",
   "metadata": {},
   "outputs": [
    {
     "data": {
      "text/html": [
       "<div>\n",
       "<style scoped>\n",
       "    .dataframe tbody tr th:only-of-type {\n",
       "        vertical-align: middle;\n",
       "    }\n",
       "\n",
       "    .dataframe tbody tr th {\n",
       "        vertical-align: top;\n",
       "    }\n",
       "\n",
       "    .dataframe thead th {\n",
       "        text-align: right;\n",
       "    }\n",
       "</style>\n",
       "<table border=\"1\" class=\"dataframe\">\n",
       "  <thead>\n",
       "    <tr style=\"text-align: right;\">\n",
       "      <th></th>\n",
       "      <th>id</th>\n",
       "      <th>title</th>\n",
       "      <th>tags</th>\n",
       "    </tr>\n",
       "  </thead>\n",
       "  <tbody>\n",
       "    <tr>\n",
       "      <th>0</th>\n",
       "      <td>278</td>\n",
       "      <td>The Shawshank Redemption</td>\n",
       "      <td>Framed in the 1940s for the double murder of h...</td>\n",
       "    </tr>\n",
       "    <tr>\n",
       "      <th>1</th>\n",
       "      <td>19404</td>\n",
       "      <td>Dilwale Dulhania Le Jayenge</td>\n",
       "      <td>Raj is a rich, carefree, happy-go-lucky second...</td>\n",
       "    </tr>\n",
       "    <tr>\n",
       "      <th>2</th>\n",
       "      <td>238</td>\n",
       "      <td>The Godfather</td>\n",
       "      <td>Spanning the years 1945 to 1955, a chronicle o...</td>\n",
       "    </tr>\n",
       "    <tr>\n",
       "      <th>3</th>\n",
       "      <td>424</td>\n",
       "      <td>Schindler's List</td>\n",
       "      <td>The true story of how businessman Oskar Schind...</td>\n",
       "    </tr>\n",
       "    <tr>\n",
       "      <th>4</th>\n",
       "      <td>240</td>\n",
       "      <td>The Godfather: Part II</td>\n",
       "      <td>In the continuing saga of the Corleone crime f...</td>\n",
       "    </tr>\n",
       "    <tr>\n",
       "      <th>...</th>\n",
       "      <td>...</td>\n",
       "      <td>...</td>\n",
       "      <td>...</td>\n",
       "    </tr>\n",
       "    <tr>\n",
       "      <th>9995</th>\n",
       "      <td>10196</td>\n",
       "      <td>The Last Airbender</td>\n",
       "      <td>The story follows the adventures of Aang, a yo...</td>\n",
       "    </tr>\n",
       "    <tr>\n",
       "      <th>9996</th>\n",
       "      <td>331446</td>\n",
       "      <td>Sharknado 3: Oh Hell No!</td>\n",
       "      <td>The sharks take bite out of the East Coast whe...</td>\n",
       "    </tr>\n",
       "    <tr>\n",
       "      <th>9997</th>\n",
       "      <td>13995</td>\n",
       "      <td>Captain America</td>\n",
       "      <td>During World War II, a brave, patriotic Americ...</td>\n",
       "    </tr>\n",
       "    <tr>\n",
       "      <th>9998</th>\n",
       "      <td>2312</td>\n",
       "      <td>In the Name of the King: A Dungeon Siege Tale</td>\n",
       "      <td>A man named Farmer sets out to rescue his kidn...</td>\n",
       "    </tr>\n",
       "    <tr>\n",
       "      <th>9999</th>\n",
       "      <td>455957</td>\n",
       "      <td>Domino</td>\n",
       "      <td>Seeking justice for his partner’s murder by an...</td>\n",
       "    </tr>\n",
       "  </tbody>\n",
       "</table>\n",
       "<p>10000 rows × 3 columns</p>\n",
       "</div>"
      ],
      "text/plain": [
       "          id                                          title  \\\n",
       "0        278                       The Shawshank Redemption   \n",
       "1      19404                    Dilwale Dulhania Le Jayenge   \n",
       "2        238                                  The Godfather   \n",
       "3        424                               Schindler's List   \n",
       "4        240                         The Godfather: Part II   \n",
       "...      ...                                            ...   \n",
       "9995   10196                             The Last Airbender   \n",
       "9996  331446                       Sharknado 3: Oh Hell No!   \n",
       "9997   13995                                Captain America   \n",
       "9998    2312  In the Name of the King: A Dungeon Siege Tale   \n",
       "9999  455957                                         Domino   \n",
       "\n",
       "                                                   tags  \n",
       "0     Framed in the 1940s for the double murder of h...  \n",
       "1     Raj is a rich, carefree, happy-go-lucky second...  \n",
       "2     Spanning the years 1945 to 1955, a chronicle o...  \n",
       "3     The true story of how businessman Oskar Schind...  \n",
       "4     In the continuing saga of the Corleone crime f...  \n",
       "...                                                 ...  \n",
       "9995  The story follows the adventures of Aang, a yo...  \n",
       "9996  The sharks take bite out of the East Coast whe...  \n",
       "9997  During World War II, a brave, patriotic Americ...  \n",
       "9998  A man named Farmer sets out to rescue his kidn...  \n",
       "9999  Seeking justice for his partner’s murder by an...  \n",
       "\n",
       "[10000 rows x 3 columns]"
      ]
     },
     "execution_count": 8,
     "metadata": {},
     "output_type": "execute_result"
    }
   ],
   "source": [
    "new_data"
   ]
  },
  {
   "cell_type": "code",
   "execution_count": 9,
   "id": "be09c01c-7370-478a-beac-35caa9502058",
   "metadata": {},
   "outputs": [],
   "source": [
    "from sklearn.feature_extraction.text import CountVectorizer"
   ]
  },
  {
   "cell_type": "code",
   "execution_count": 10,
   "id": "036dbbcf-979c-490e-8536-6a56d331f757",
   "metadata": {},
   "outputs": [],
   "source": [
    "cv = CountVectorizer(max_features = 10000, stop_words = 'english')"
   ]
  },
  {
   "cell_type": "code",
   "execution_count": 12,
   "id": "c34fd2af-1e10-43d6-9771-2e1e0b2bfc12",
   "metadata": {},
   "outputs": [],
   "source": [
    "vector = cv.fit_transform(new_data['tags'].values.astype('U')).toarray()"
   ]
  },
  {
   "cell_type": "raw",
   "id": "81004625-704a-440b-a2c5-6932612dbe6a",
   "metadata": {},
   "source": []
  },
  {
   "cell_type": "code",
   "execution_count": 13,
   "id": "c4b35331-4518-4039-aa5e-ffd0c3564f48",
   "metadata": {},
   "outputs": [
    {
     "data": {
      "text/plain": [
       "(10000, 10000)"
      ]
     },
     "execution_count": 13,
     "metadata": {},
     "output_type": "execute_result"
    }
   ],
   "source": [
    "vector.shape"
   ]
  },
  {
   "cell_type": "code",
   "execution_count": 14,
   "id": "2a433ada-aeb9-4c61-a155-7cc02557dc1d",
   "metadata": {},
   "outputs": [
    {
     "data": {
      "text/plain": [
       "array([[0, 0, 0, ..., 0, 0, 0],\n",
       "       [0, 0, 0, ..., 0, 0, 0],\n",
       "       [0, 0, 0, ..., 0, 0, 0],\n",
       "       ...,\n",
       "       [0, 0, 0, ..., 0, 0, 0],\n",
       "       [0, 0, 0, ..., 0, 0, 0],\n",
       "       [0, 0, 0, ..., 0, 0, 0]], dtype=int64)"
      ]
     },
     "execution_count": 14,
     "metadata": {},
     "output_type": "execute_result"
    }
   ],
   "source": [
    "vector"
   ]
  },
  {
   "cell_type": "code",
   "execution_count": 15,
   "id": "ff24bcdb-2377-410d-80f5-e910138a599f",
   "metadata": {},
   "outputs": [],
   "source": [
    "from sklearn.metrics.pairwise import cosine_similarity"
   ]
  },
  {
   "cell_type": "code",
   "execution_count": 16,
   "id": "873788df-287d-458c-bfb7-795245164108",
   "metadata": {},
   "outputs": [],
   "source": [
    "similarity = cosine_similarity(vector)"
   ]
  },
  {
   "cell_type": "code",
   "execution_count": 17,
   "id": "88f61904-1ffb-443a-a28e-ee018f04ca6e",
   "metadata": {},
   "outputs": [
    {
     "data": {
      "text/plain": [
       "array([[1.        , 0.05634362, 0.12888482, ..., 0.07559289, 0.11065667,\n",
       "        0.06388766],\n",
       "       [0.05634362, 1.        , 0.07624929, ..., 0.        , 0.03636965,\n",
       "        0.        ],\n",
       "       [0.12888482, 0.07624929, 1.        , ..., 0.02273314, 0.06655583,\n",
       "        0.08645856],\n",
       "       ...,\n",
       "       [0.07559289, 0.        , 0.02273314, ..., 1.        , 0.03253   ,\n",
       "        0.02817181],\n",
       "       [0.11065667, 0.03636965, 0.06655583, ..., 0.03253   , 1.        ,\n",
       "        0.0412393 ],\n",
       "       [0.06388766, 0.        , 0.08645856, ..., 0.02817181, 0.0412393 ,\n",
       "        1.        ]])"
      ]
     },
     "execution_count": 17,
     "metadata": {},
     "output_type": "execute_result"
    }
   ],
   "source": [
    "similarity"
   ]
  },
  {
   "cell_type": "code",
   "execution_count": 18,
   "id": "94c4e150-ffe2-4801-a9a3-ff2f7fc9ad5b",
   "metadata": {},
   "outputs": [],
   "source": [
    "def recommend(movie):\n",
    "    index = new_data[new_data['title']==movie].index[0]\n",
    "    distance = sorted(list(enumerate(similarity[index])), reverse=True, key=lambda vector:vector[1])\n",
    "    for i in distance[0:5]:\n",
    "        print(new_data.iloc[i[0]].title)\n",
    "    "
   ]
  },
  {
   "cell_type": "code",
   "execution_count": 19,
   "id": "bd535471-eef4-4b85-b318-082614522268",
   "metadata": {},
   "outputs": [],
   "source": [
    "import pickle"
   ]
  },
  {
   "cell_type": "code",
   "execution_count": 20,
   "id": "5853de85-7559-444e-943a-be61fcbb8f05",
   "metadata": {},
   "outputs": [],
   "source": [
    "pickle.dump(new_data, open('movies_list.pkl','wb'))"
   ]
  },
  {
   "cell_type": "code",
   "execution_count": 27,
   "id": "2d2b2951-7447-4a3a-874f-c37ae195a329",
   "metadata": {},
   "outputs": [],
   "source": [
    "pickle.dump(similarity, open('similarity.pkl','wb'))"
   ]
  },
  {
   "cell_type": "code",
   "execution_count": 28,
   "id": "7891488a-21d7-4bf0-9e98-e18e48933d95",
   "metadata": {},
   "outputs": [
    {
     "data": {
      "text/plain": [
       "array([[1.        , 0.05634362, 0.12888482, ..., 0.07559289, 0.11065667,\n",
       "        0.06388766],\n",
       "       [0.05634362, 1.        , 0.07624929, ..., 0.        , 0.03636965,\n",
       "        0.        ],\n",
       "       [0.12888482, 0.07624929, 1.        , ..., 0.02273314, 0.06655583,\n",
       "        0.08645856],\n",
       "       ...,\n",
       "       [0.07559289, 0.        , 0.02273314, ..., 1.        , 0.03253   ,\n",
       "        0.02817181],\n",
       "       [0.11065667, 0.03636965, 0.06655583, ..., 0.03253   , 1.        ,\n",
       "        0.0412393 ],\n",
       "       [0.06388766, 0.        , 0.08645856, ..., 0.02817181, 0.0412393 ,\n",
       "        1.        ]])"
      ]
     },
     "execution_count": 28,
     "metadata": {},
     "output_type": "execute_result"
    }
   ],
   "source": [
    "pickle.load(open('similarity.pkl','rb'))"
   ]
  },
  {
   "cell_type": "code",
   "execution_count": null,
   "id": "14c7628c-258b-4ede-aedc-5ec69fab5f8b",
   "metadata": {},
   "outputs": [],
   "source": []
  }
 ],
 "metadata": {
  "kernelspec": {
   "display_name": "Python 3 (ipykernel)",
   "language": "python",
   "name": "python3"
  },
  "language_info": {
   "codemirror_mode": {
    "name": "ipython",
    "version": 3
   },
   "file_extension": ".py",
   "mimetype": "text/x-python",
   "name": "python",
   "nbconvert_exporter": "python",
   "pygments_lexer": "ipython3",
   "version": "3.10.11"
  }
 },
 "nbformat": 4,
 "nbformat_minor": 5
}
